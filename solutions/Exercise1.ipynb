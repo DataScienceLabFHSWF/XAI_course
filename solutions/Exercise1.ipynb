{
 "cells": [
  {
   "cell_type": "code",
   "execution_count": null,
   "metadata": {},
   "outputs": [
    {
     "ename": "",
     "evalue": "",
     "output_type": "error",
     "traceback": [
      "\u001b[1;31mRunning cells with 'xai (Python 3.10.6)' requires the ipykernel package.\n",
      "\u001b[1;31mRun the following command to install 'ipykernel' into the Python environment. \n",
      "\u001b[1;31mCommand: 'c:/Users/felix/Documents/Arbeit/XAI_Exercises/xai/Scripts/python.exe -m pip install ipykernel -U --force-reinstall'"
     ]
    }
   ],
   "source": [
    "!pip install ../requirements.txt\n",
    "from sklearn.datasets import load_boston\n",
    "from sklearn.linear_model import LinearRegression, Lasso\n",
    "from sklearn.preprocessing import StandardScaler\n",
    "import numpy as np\n",
    "import pandas as pd\n"
   ]
  },
  {
   "cell_type": "code",
   "execution_count": null,
   "metadata": {},
   "outputs": [],
   "source": [
    "\n",
    "# Exercise 1: Linear Model Interpretation (Basics)\n",
    "\n",
    "# Load the Boston housing dataset\n",
    "data = load_boston()\n",
    "X, y = data.data, data.target\n",
    "feature_names = data.feature_names\n",
    "\n",
    "# Train a linear regression model\n",
    "linear_model = LinearRegression()\n",
    "linear_model.fit(X, y)\n",
    "\n",
    "# Extract and interpret the model coefficients\n",
    "coefficients = linear_model.coef_\n",
    "coefficients_df = pd.DataFrame({'Feature': feature_names, 'Coefficient': coefficients})\n",
    "print(\"Linear Regression Coefficients:\")\n",
    "print(coefficients_df)\n",
    "\n",
    "# Calculate feature importance using standardized coefficients\n",
    "scaler = StandardScaler()\n",
    "X_scaled = scaler.fit_transform(X)\n",
    "linear_model.fit(X_scaled, y)\n",
    "standardized_coefficients = linear_model.coef_\n",
    "standardized_coefficients_df = pd.DataFrame({'Feature': feature_names, 'Standardized Coefficient': standardized_coefficients})\n",
    "print(\"\\nFeature Importance (Standardized Coefficients):\")\n",
    "print(standardized_coefficients_df)\n",
    "\n",
    "# Compare with Lasso regression results (feature selection)\n",
    "lasso_model = Lasso(alpha=0.1)\n",
    "lasso_model.fit(X_scaled, y)\n",
    "lasso_coefficients = lasso_model.coef_\n",
    "lasso_coefficients_df = pd.DataFrame({'Feature': feature_names, 'Lasso Coefficient': lasso_coefficients})\n",
    "print(\"\\nLasso Regression Coefficients:\")\n",
    "print(lasso_coefficients_df)"
   ]
  }
 ],
 "metadata": {
  "kernelspec": {
   "display_name": "xai",
   "language": "python",
   "name": "python3"
  },
  "language_info": {
   "name": "python",
   "version": "3.10.6"
  }
 },
 "nbformat": 4,
 "nbformat_minor": 2
}
